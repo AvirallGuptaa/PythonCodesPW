{
 "cells": [
  {
   "cell_type": "code",
   "execution_count": 1,
   "id": "ab7a7619-43a7-444a-9194-88e0924060cb",
   "metadata": {},
   "outputs": [],
   "source": [
    "import pandas as pd\n",
    "import numpy as np\n",
    "import seaborn as sns "
   ]
  },
  {
   "cell_type": "code",
   "execution_count": 2,
   "id": "def147fd-0abd-4c94-aaca-951b990b0388",
   "metadata": {},
   "outputs": [],
   "source": [
    " population = np.random.randint(10, 20, 50)"
   ]
  },
  {
   "cell_type": "code",
   "execution_count": 3,
   "id": "71d403d2-3616-4465-956e-57e21ab12c2f",
   "metadata": {},
   "outputs": [
    {
     "data": {
      "text/plain": [
       "array([15, 11, 10, 18, 19, 10, 11, 12, 10, 16, 13, 12, 12, 17, 17, 19, 16,\n",
       "       12, 16, 11, 12, 11, 13, 19, 17, 16, 14, 19, 15, 18, 19, 18, 13, 14,\n",
       "       15, 16, 14, 12, 13, 19, 12, 17, 18, 13, 11, 16, 16, 12, 15, 16],\n",
       "      dtype=int32)"
      ]
     },
     "execution_count": 3,
     "metadata": {},
     "output_type": "execute_result"
    }
   ],
   "source": [
    "population"
   ]
  },
  {
   "cell_type": "code",
   "execution_count": 4,
   "id": "533f932f-4712-42a7-b77b-969175c7e7ba",
   "metadata": {},
   "outputs": [
    {
     "data": {
      "text/plain": [
       "50"
      ]
     },
     "execution_count": 4,
     "metadata": {},
     "output_type": "execute_result"
    }
   ],
   "source": [
    "len(population)"
   ]
  },
  {
   "cell_type": "code",
   "execution_count": 5,
   "id": "a8e654f4-a5f1-4514-be4d-f59fc88b7c49",
   "metadata": {},
   "outputs": [
    {
     "name": "stdout",
     "output_type": "stream",
     "text": [
      "The mean of pop 14.6\n",
      "The median of pop 15.0\n",
      "The mode of pop 12\n"
     ]
    }
   ],
   "source": [
    "from statistics import mode\n",
    "print(\"The mean of pop\", np.mean(population))\n",
    "print(\"The median of pop\", np.median(population))\n",
    "print(\"The mode of pop\",mode(population))"
   ]
  },
  {
   "cell_type": "code",
   "execution_count": 6,
   "id": "a5aad75f-c03f-450c-99ee-bf9f77ebc462",
   "metadata": {},
   "outputs": [
    {
     "name": "stdout",
     "output_type": "stream",
     "text": [
      "The mean of sample 15.25\n",
      "The median of sample 15.5\n",
      "The mode of sample 13\n"
     ]
    }
   ],
   "source": [
    "sample = np.random.choice(population, 20)\n",
    "print(\"The mean of sample\", np.mean(sample))\n",
    "print(\"The median of sample\", np.median(sample))\n",
    "print(\"The mode of sample\",mode(sample))"
   ]
  },
  {
   "cell_type": "code",
   "execution_count": 7,
   "id": "20063a15-a565-4284-bd07-1698191cc86a",
   "metadata": {},
   "outputs": [],
   "source": [
    "sample1 = np.random.choice(population, 20)\n",
    "sample2 = np.random.choice(population, 20)\n",
    "sample3 = np.random.choice(population, 20)\n",
    "sample4 = np.random.choice(population, 20)"
   ]
  },
  {
   "cell_type": "code",
   "execution_count": 8,
   "id": "0ad893c5-db31-4712-8d1e-20256d443ebc",
   "metadata": {},
   "outputs": [
    {
     "data": {
      "text/plain": [
       "array([17, 14, 19, 13, 19, 18, 16, 10, 17, 10, 17, 16, 19, 11, 19, 12, 15,\n",
       "       11, 13, 17], dtype=int32)"
      ]
     },
     "execution_count": 8,
     "metadata": {},
     "output_type": "execute_result"
    }
   ],
   "source": [
    "sample4"
   ]
  },
  {
   "cell_type": "code",
   "execution_count": 9,
   "id": "30aedde0-0072-437a-9c50-ef89e24b9fc1",
   "metadata": {},
   "outputs": [
    {
     "data": {
      "text/plain": [
       "array([13, 10, 18, 18, 10, 15, 16, 16, 12, 16, 12, 17, 10, 19, 12, 14, 12,\n",
       "       12, 15, 12], dtype=int32)"
      ]
     },
     "execution_count": 9,
     "metadata": {},
     "output_type": "execute_result"
    }
   ],
   "source": [
    "sample1"
   ]
  },
  {
   "cell_type": "code",
   "execution_count": 10,
   "id": "012ed6a0-b675-4805-a315-a844358ca0b4",
   "metadata": {},
   "outputs": [],
   "source": [
    "mean_of_samples = []\n",
    "all_sample = [sample1, sample2, sample3, sample4]\n",
    "\n",
    "for sample in all_sample:\n",
    "    mean_of_samples.append(np.mean(sample))"
   ]
  },
  {
   "cell_type": "code",
   "execution_count": 11,
   "id": "9b2960f8-9584-46af-980e-791f884022dc",
   "metadata": {},
   "outputs": [
    {
     "data": {
      "text/plain": [
       "[np.float64(13.95), np.float64(13.35), np.float64(14.75), np.float64(15.15)]"
      ]
     },
     "execution_count": 11,
     "metadata": {},
     "output_type": "execute_result"
    }
   ],
   "source": [
    "mean_of_samples"
   ]
  },
  {
   "cell_type": "code",
   "execution_count": 12,
   "id": "a7e6a268-ebfd-4489-a0da-3765a25542a4",
   "metadata": {},
   "outputs": [],
   "source": [
    "#central limit theorem >> the sample mean distribution will approximated to normal distribution given sample size >=30 and no of samples are sufficiently large enough"
   ]
  },
  {
   "cell_type": "code",
   "execution_count": 13,
   "id": "63ff3e06-6e35-418b-a415-1f0efc81fd38",
   "metadata": {},
   "outputs": [],
   "source": [
    "population = np.random.binomial(10, 0.5, 100000) #this is no of trials or experiment, it represents the no of times an event is repeated\n",
    "#0.5 is the probability of success\n",
    "#no of times we want to run the expriment or population size\n",
    "#100000 will generate 100000 random nos each representing the outcome of 10 independet trials"
   ]
  },
  {
   "cell_type": "code",
   "execution_count": 14,
   "id": "e3184506-1e6b-4bca-bb1f-96acf51411f2",
   "metadata": {},
   "outputs": [
    {
     "data": {
      "text/plain": [
       "array([6, 5, 5, ..., 5, 3, 5], dtype=int32)"
      ]
     },
     "execution_count": 14,
     "metadata": {},
     "output_type": "execute_result"
    }
   ],
   "source": [
    "population"
   ]
  },
  {
   "cell_type": "code",
   "execution_count": 15,
   "id": "c1a60fda-6931-451d-8e35-bdd180ab306f",
   "metadata": {},
   "outputs": [
    {
     "data": {
      "text/plain": [
       "100000"
      ]
     },
     "execution_count": 15,
     "metadata": {},
     "output_type": "execute_result"
    }
   ],
   "source": [
    "len(population)"
   ]
  },
  {
   "cell_type": "code",
   "execution_count": 16,
   "id": "c6446f30-ab66-4d22-96d2-2dd52a4e2a3e",
   "metadata": {},
   "outputs": [
    {
     "name": "stderr",
     "output_type": "stream",
     "text": [
      "C:\\Users\\hp\\AppData\\Local\\Temp\\ipykernel_13880\\2958836585.py:1: UserWarning: \n",
      "\n",
      "`distplot` is a deprecated function and will be removed in seaborn v0.14.0.\n",
      "\n",
      "Please adapt your code to use either `displot` (a figure-level function with\n",
      "similar flexibility) or `histplot` (an axes-level function for histograms).\n",
      "\n",
      "For a guide to updating your code to use the new functions, please see\n",
      "https://gist.github.com/mwaskom/de44147ed2974457ad6372750bbe5751\n",
      "\n",
      "  sns.distplot(population)\n"
     ]
    },
    {
     "data": {
      "text/plain": [
       "<Axes: ylabel='Density'>"
      ]
     },
     "execution_count": 16,
     "metadata": {},
     "output_type": "execute_result"
    },
    {
     "data": {
      "image/png": "[encoded data removed]",
      "text/plain": [
       "<Figure size 640x480 with 1 Axes>"
      ]
     },
     "metadata": {},
     "output_type": "display_data"
    }
   ],
   "source": [
    "sns.distplot(population)"
   ]
  },
  {
   "cell_type": "code",
   "execution_count": 17,
   "id": "63408a57-5fb3-410d-b3e8-51b0aaf7cc1a",
   "metadata": {},
   "outputs": [],
   "source": [
    "sample_size = int(len(population)*0.030)"
   ]
  },
  {
   "cell_type": "code",
   "execution_count": 18,
   "id": "510b6423-0098-4ee4-aa4a-793b48ebe253",
   "metadata": {},
   "outputs": [
    {
     "data": {
      "text/plain": [
       "3000"
      ]
     },
     "execution_count": 18,
     "metadata": {},
     "output_type": "execute_result"
    }
   ],
   "source": [
    "sample_size"
   ]
  },
  {
   "cell_type": "code",
   "execution_count": 19,
   "id": "42a1a07f-c716-49a3-8b59-4c7510c8acac",
   "metadata": {},
   "outputs": [],
   "source": [
    "mean_of_samples  = []\n",
    "\n",
    "for i in range(1, 1000):\n",
    "    sample = np.random.choice(population, size = sample_size)\n",
    "    mean_of_samples.append(np.mean(sample))"
   ]
  },
  {
   "cell_type": "code",
   "execution_count": 20,
   "id": "1b0a56d1-b99e-4d20-bee7-2167935efa77",
   "metadata": {},
   "outputs": [
    {
     "name": "stderr",
     "output_type": "stream",
     "text": [
      "C:\\Users\\hp\\AppData\\Local\\Temp\\ipykernel_13880\\975679000.py:1: UserWarning: \n",
      "\n",
      "`distplot` is a deprecated function and will be removed in seaborn v0.14.0.\n",
      "\n",
      "Please adapt your code to use either `displot` (a figure-level function with\n",
      "similar flexibility) or `histplot` (an axes-level function for histograms).\n",
      "\n",
      "For a guide to updating your code to use the new functions, please see\n",
      "https://gist.github.com/mwaskom/de44147ed2974457ad6372750bbe5751\n",
      "\n",
      "  sns.distplot(mean_of_samples, kde = True, color = \"red\")\n"
     ]
    },
    {
     "data": {
      "text/plain": [
       "<Axes: ylabel='Density'>"
      ]
     },
     "execution_count": 20,
     "metadata": {},
     "output_type": "execute_result"
    },
    {
     "data": {
      "image/png": "[encoded data removed]",
      "text/plain": [
       "<Figure size 640x480 with 1 Axes>"
      ]
     },
     "metadata": {},
     "output_type": "display_data"
    }
   ],
   "source": [
    "sns.distplot(mean_of_samples, kde = True, color = \"red\")"
   ]
  },
  {
   "cell_type": "code",
   "execution_count": 21,
   "id": "d883b0e6-d48c-4881-a87a-47a19b12172d",
   "metadata": {},
   "outputs": [
    {
     "data": {
      "text/plain": [
       "array([-0.01539413,  0.0046781 ,  0.41893201,  0.06676929, -0.83005975,\n",
       "       -0.16725143,  0.40755171,  0.25790343, -0.59644531, -0.16108062,\n",
       "        0.15139534, -0.86325137, -1.89011649,  0.81462718,  0.92117627,\n",
       "        0.9448367 , -2.59712601,  0.96886389,  0.88196036,  0.231928  ,\n",
       "       -1.32979921,  0.45949122, -1.50976364,  0.7298959 ,  1.18515623,\n",
       "       -0.24113172,  0.20335063,  1.49346653,  0.02319097,  0.1106564 ,\n",
       "       -0.60211778, -1.36019149,  0.97545777, -0.36341524, -0.7027872 ,\n",
       "        1.00741206,  1.37426127, -0.14015642, -0.79398812,  0.1683586 ,\n",
       "       -1.04576432,  1.03192243,  1.16535751,  0.13770226,  0.51005986,\n",
       "       -0.02104553,  0.6602094 , -0.81935639, -0.72310229, -0.7749938 ,\n",
       "       -1.34037972, -0.7853998 , -0.60824058, -1.99001819, -0.29763675,\n",
       "       -1.09538708, -0.35716507, -0.8161405 ,  0.60289548,  0.49567469,\n",
       "       -2.03697219, -0.24285518,  0.04110778, -1.56099354,  0.33612616,\n",
       "       -0.074495  , -1.67363574, -0.11669839, -0.82639247, -1.04289588,\n",
       "       -0.78440796,  1.02489486,  0.39753606,  0.57229423,  0.252164  ,\n",
       "        3.03976161,  1.21049634, -0.04321812,  0.53873243,  0.38971959,\n",
       "       -0.13691728,  0.06187683,  0.52279065,  0.29449273,  1.68714998,\n",
       "        0.25175122,  1.85714484,  0.87918028, -0.92067755,  0.47686096,\n",
       "       -0.04091932, -0.9492823 , -0.38553691,  0.62971848, -0.52576724,\n",
       "       -0.62571805,  0.57200506, -0.47286404, -1.404639  ,  2.92084797])"
      ]
     },
     "execution_count": 21,
     "metadata": {},
     "output_type": "execute_result"
    }
   ],
   "source": [
    "#ztest\n",
    "\n",
    "\n",
    "from numpy.random import randn\n",
    "population = randn(100)\n",
    "population"
   ]
  },
  {
   "cell_type": "code",
   "execution_count": 22,
   "id": "c006f8ea-71fb-4213-9f7d-099c80293a63",
   "metadata": {},
   "outputs": [
    {
     "name": "stderr",
     "output_type": "stream",
     "text": [
      "C:\\Users\\hp\\AppData\\Local\\Temp\\ipykernel_13880\\2958836585.py:1: UserWarning: \n",
      "\n",
      "`distplot` is a deprecated function and will be removed in seaborn v0.14.0.\n",
      "\n",
      "Please adapt your code to use either `displot` (a figure-level function with\n",
      "similar flexibility) or `histplot` (an axes-level function for histograms).\n",
      "\n",
      "For a guide to updating your code to use the new functions, please see\n",
      "https://gist.github.com/mwaskom/de44147ed2974457ad6372750bbe5751\n",
      "\n",
      "  sns.distplot(population)\n"
     ]
    },
    {
     "data": {
      "text/plain": [
       "<Axes: ylabel='Density'>"
      ]
     },
     "execution_count": 22,
     "metadata": {},
     "output_type": "execute_result"
    },
    {
     "data": {
      "image/png": "[encoded data removed]",
      "text/plain": [
       "<Figure size 640x480 with 1 Axes>"
      ]
     },
     "metadata": {},
     "output_type": "display_data"
    }
   ],
   "source": [
    "sns.distplot(population)"
   ]
  },
  {
   "cell_type": "code",
   "execution_count": 23,
   "id": "6b8a5987-e98a-4a38-8f82-ccf2d3279adb",
   "metadata": {},
   "outputs": [
    {
     "data": {
      "text/plain": [
       "(np.float64(-0.023417985204136068), np.float64(0.9724482448923647))"
      ]
     },
     "execution_count": 23,
     "metadata": {},
     "output_type": "execute_result"
    }
   ],
   "source": [
    "np.mean(population), np.std(population) "
   ]
  },
  {
   "cell_type": "code",
   "execution_count": 26,
   "id": "35de0c33-1d06-4808-b8c9-8fe9bb0c66c1",
   "metadata": {},
   "outputs": [
    {
     "ename": "NameError",
     "evalue": "name 'alternate' is not defined",
     "output_type": "error",
     "traceback": [
      "\u001b[1;31m---------------------------------------------------------------------------\u001b[0m",
      "\u001b[1;31mNameError\u001b[0m                                 Traceback (most recent call last)",
      "Cell \u001b[1;32mIn[26], line 2\u001b[0m\n\u001b[0;32m      1\u001b[0m null_mean \u001b[38;5;241m=\u001b[39m \u001b[38;5;241m0.09\u001b[39m\n\u001b[1;32m----> 2\u001b[0m \u001b[43malternate\u001b[49m\n\u001b[0;32m      3\u001b[0m alternate \u001b[38;5;241m>\u001b[39m\u001b[38;5;241m=\u001b[39m \u001b[38;5;241m0.09\u001b[39m\n\u001b[0;32m      5\u001b[0m \u001b[38;5;66;03m#pvalue <= 0.05>> reject null hypothesis else if p value > 0.05 we fail to reject null hypothesis\u001b[39;00m\n",
      "\u001b[1;31mNameError\u001b[0m: name 'alternate' is not defined"
     ]
    }
   ],
   "source": [
    "null_mean = 0.09\n",
    "\n",
    "alternate >= 0.09\n",
    "\n",
    "#pvalue <= 0.05>> reject null hypothesis else if p value > 0.05 we fail to reject null hypothesis"
   ]
  },
  {
   "cell_type": "code",
   "execution_count": 31,
   "id": "f3d08d86-af9e-4da0-b6a4-83fce00856fb",
   "metadata": {},
   "outputs": [],
   "source": [
    "from statsmodels.stats.weightstats import ztest"
   ]
  },
  {
   "cell_type": "code",
   "execution_count": 33,
   "id": "e9f56f5c-0d47-4ad7-9c0c-4e23bb1acbdc",
   "metadata": {},
   "outputs": [],
   "source": [
    "zscore, pvalue = ztest(population, value = null_mean, alternative = 'larger') #here alternative means, mean is greater than null mean"
   ]
  },
  {
   "cell_type": "code",
   "execution_count": 35,
   "id": "ad7e94f9-b556-4f61-b99d-475d3ab915d0",
   "metadata": {},
   "outputs": [
    {
     "data": {
      "text/plain": [
       "-0.1327335141313911"
      ]
     },
     "execution_count": 35,
     "metadata": {},
     "output_type": "execute_result"
    }
   ],
   "source": [
    "zscore"
   ]
  },
  {
   "cell_type": "code",
   "execution_count": 36,
   "id": "db245e56-5151-41e2-93c9-eaa447443c03",
   "metadata": {},
   "outputs": [
    {
     "data": {
      "text/plain": [
       "0.5527979315385795"
      ]
     },
     "execution_count": 36,
     "metadata": {},
     "output_type": "execute_result"
    }
   ],
   "source": [
    "pvalue"
   ]
  },
  {
   "cell_type": "code",
   "execution_count": 37,
   "id": "3d57a9a0-6a18-4425-a5c5-be38797f8c18",
   "metadata": {},
   "outputs": [
    {
     "name": "stdout",
     "output_type": "stream",
     "text": [
      "fail to reject null hypothesis\n"
     ]
    }
   ],
   "source": [
    "if pvalue <= 0.05:\n",
    "    print(\"reject the null hypothesis\")\n",
    "else:\n",
    "    print(\"fail to reject null hypothesis\")"
   ]
  },
  {
   "cell_type": "code",
   "execution_count": 38,
   "id": "9e4d8e8e-e82b-480b-b0ec-8c6e7a80e8db",
   "metadata": {},
   "outputs": [],
   "source": [
    "#A school calculated iq scores of 50 students, the average iq  turned out to be 100. the mean of population iq is 90 \n",
    "#and the std deviation 16. \\\n",
    "#state whether the claim by school \n",
    "#that IQ increases if student study more than avg of school with 5% of significance level\n",
    "\n",
    "#null hypothesis : mean_iq = 90\n",
    "#Alternate: mean_iq > 90"
   ]
  },
  {
   "cell_type": "code",
   "execution_count": 39,
   "id": "59db7e01-4bc7-4af3-b7a9-aadfcca76f9e",
   "metadata": {},
   "outputs": [],
   "source": [
    "import scipy.stats as stats #zcritical approach\n",
    "\n",
    "sample_mean = 100\n",
    "population_mean = 90\n",
    "population_std = 16\n",
    "sample_size =60\n",
    "alpha = 0.05"
   ]
  },
  {
   "cell_type": "code",
   "execution_count": 41,
   "id": "e9036a7d-e42e-42e4-9f76-c89f314c01ea",
   "metadata": {},
   "outputs": [
    {
     "name": "stdout",
     "output_type": "stream",
     "text": [
      "The zsore is  4.419417382415922\n"
     ]
    }
   ],
   "source": [
    "zscore = (sample_mean - population_mean) / (population_std/np.sqrt(50))\n",
    "print(\"The zsore is \", zscore)"
   ]
  },
  {
   "cell_type": "code",
   "execution_count": 45,
   "id": "dba868ed-430b-4e5a-81a1-98bf5bd477b1",
   "metadata": {},
   "outputs": [],
   "source": [
    "#stats>>statistics module in Scipy\n",
    "#norm >> normal distr\n",
    "#ppf >> percent point function>> inverse of cumulative distribution function(cdf)\n",
    "zcritical = stats.norm.ppf(1-alpha)"
   ]
  },
  {
   "cell_type": "code",
   "execution_count": 46,
   "id": "4c19fc9f-11db-41b3-9f98-90ded3ae048e",
   "metadata": {},
   "outputs": [
    {
     "data": {
      "text/plain": [
       "1.6448536269514722"
      ]
     },
     "execution_count": 46,
     "metadata": {},
     "output_type": "execute_result"
    }
   ],
   "source": [
    "zcritical"
   ]
  },
  {
   "cell_type": "code",
   "execution_count": 47,
   "id": "b97996e8-48b3-413f-9513-f30a07c9184a",
   "metadata": {},
   "outputs": [
    {
     "name": "stdout",
     "output_type": "stream",
     "text": [
      "Reject the null hypothesis\n"
     ]
    }
   ],
   "source": [
    "if zscore > zcritical:\n",
    "    print(\"Reject the null hypothesis\")\n",
    "else:\n",
    "    print(\"fail to reject null hypothesis\")"
   ]
  },
  {
   "cell_type": "code",
   "execution_count": 48,
   "id": "9efb8efb-67a3-4d3f-9936-a6599a3c1bde",
   "metadata": {},
   "outputs": [
    {
     "name": "stdout",
     "output_type": "stream",
     "text": [
      "Reject the null hypothesis\n"
     ]
    }
   ],
   "source": [
    "p_value = 1-stats.norm.cdf(zscore)\n",
    "\n",
    "\n",
    "if p_value < alpha:\n",
    "    print(\"Reject the null hypothesis\")\n",
    "else:\n",
    "    print(\"fail to reject null hypothesis\")"
   ]
  },
  {
   "cell_type": "code",
   "execution_count": 49,
   "id": "9827963c-66d3-4736-8a6d-51e182000d8d",
   "metadata": {},
   "outputs": [
    {
     "data": {
      "text/plain": [
       "4.948367312573865e-06"
      ]
     },
     "execution_count": 49,
     "metadata": {},
     "output_type": "execute_result"
    }
   ],
   "source": [
    "p_value"
   ]
  },
  {
   "cell_type": "code",
   "execution_count": 50,
   "id": "c89163b8-e820-4b25-a2d3-1f999ee479ed",
   "metadata": {},
   "outputs": [],
   "source": [
    "#T-test when sample size < 30 or sigma of pop is not given\n",
    "#one sample t test (with respect to one independent sample)\n",
    "#two sample t test (with respect to two independent sample)\n",
    "#paired t test (two sample from the population on different time interval)"
   ]
  },
  {
   "cell_type": "code",
   "execution_count": 51,
   "id": "a3eb98bb-44aa-4dfe-863f-2ba3bbd5d278",
   "metadata": {},
   "outputs": [
    {
     "data": {
      "text/plain": [
       "array([49, 25, 44, 14, 43, 30, 32, 48, 18, 44, 33, 22, 19, 20, 18, 45, 24,\n",
       "       13, 23, 46, 49, 12, 49, 38, 28, 34, 18, 40, 25, 10, 15, 32, 30, 27,\n",
       "       40, 15, 37, 29, 13, 12, 30, 46, 44, 23, 49, 20, 25, 22, 38, 40])"
      ]
     },
     "execution_count": 51,
     "metadata": {},
     "output_type": "execute_result"
    }
   ],
   "source": [
    "#one sample t test\n",
    "population = np.random.randint(10, 50, 50)\n",
    "population"
   ]
  },
  {
   "cell_type": "code",
   "execution_count": 52,
   "id": "f5f93e50-68ae-455e-ba2e-54d159f4fee2",
   "metadata": {},
   "outputs": [],
   "source": [
    "sample = np.random.choice(population, 20)"
   ]
  },
  {
   "cell_type": "code",
   "execution_count": 53,
   "id": "bb49a006-46e8-4570-8048-44a2e44a6e9a",
   "metadata": {},
   "outputs": [
    {
     "data": {
      "text/plain": [
       "25.5"
      ]
     },
     "execution_count": 53,
     "metadata": {},
     "output_type": "execute_result"
    }
   ],
   "source": [
    "np.mean(sample)"
   ]
  },
  {
   "cell_type": "code",
   "execution_count": 54,
   "id": "3b11b699-1ba2-42c5-9a0a-c343de2b1301",
   "metadata": {},
   "outputs": [
    {
     "data": {
      "text/plain": [
       "Ttest_1sampResult(statistic=0.19497488577361183, pvalue=0.8474824043548764)"
      ]
     },
     "execution_count": 54,
     "metadata": {},
     "output_type": "execute_result"
    }
   ],
   "source": [
    "null_value = 25 #the mean of population is 25\n",
    "import scipy\n",
    "scipy.stats.ttest_1samp(sample, null_value)"
   ]
  },
  {
   "cell_type": "code",
   "execution_count": null,
   "id": "6ddb3398-d5de-4d60-98c3-b1ac43ce6bc7",
   "metadata": {},
   "outputs": [],
   "source": [
    "#if p value > 0.05, fail to reject null hypothesis"
   ]
  },
  {
   "cell_type": "code",
   "execution_count": null,
   "id": "2a01645b-d7fb-4ac4-9637-fa1d2d7814d6",
   "metadata": {},
   "outputs": [],
   "source": [
    "#Two sample t test"
   ]
  },
  {
   "cell_type": "code",
   "execution_count": 55,
   "id": "42fbb195-af54-4632-8dfe-40cf4afd81a2",
   "metadata": {},
   "outputs": [],
   "source": [
    "virat_kohli_score = np.random.choice(population, 20)"
   ]
  },
  {
   "cell_type": "code",
   "execution_count": 56,
   "id": "267cb5be-5db6-427b-b4a9-1b6dc08de1f9",
   "metadata": {},
   "outputs": [
    {
     "data": {
      "text/plain": [
       "array([13, 25, 38, 28, 19, 12, 13, 18, 48, 40, 18, 23, 24, 33, 45, 38, 46,\n",
       "       27, 20, 49])"
      ]
     },
     "execution_count": 56,
     "metadata": {},
     "output_type": "execute_result"
    }
   ],
   "source": [
    "virat_kohli_score"
   ]
  },
  {
   "cell_type": "code",
   "execution_count": 57,
   "id": "084e05a1-32d2-4fbd-ba63-7e6862c3d40b",
   "metadata": {},
   "outputs": [
    {
     "data": {
      "text/plain": [
       "(34.85, 28.85)"
      ]
     },
     "execution_count": 57,
     "metadata": {},
     "output_type": "execute_result"
    }
   ],
   "source": [
    "rohit_sharma_score = [13, 25, 48, 28, 19, 12, 13, 18, 98, 40, 18, 23, 34, 33, 45, 58, 46, 27, 50, 49]\n",
    "\n",
    "np.mean(rohit_sharma_score), np.mean(virat_kohli_score)"
   ]
  },
  {
   "cell_type": "code",
   "execution_count": 58,
   "id": "6dcf7853-b923-417d-8614-ea8ae6a94493",
   "metadata": {},
   "outputs": [
    {
     "data": {
      "text/plain": [
       "Ttest_indResult(statistic=-1.1183866059054934, pvalue=0.27042238362654586)"
      ]
     },
     "execution_count": 58,
     "metadata": {},
     "output_type": "execute_result"
    }
   ],
   "source": [
    "scipy.stats.ttest_ind(virat_kohli_score, rohit_sharma_score)"
   ]
  },
  {
   "cell_type": "code",
   "execution_count": 59,
   "id": "d422799e-f71d-443a-9e99-44a731dc2ce2",
   "metadata": {},
   "outputs": [],
   "source": [
    "#if p value > 0.05, fail to reject null hypothesis"
   ]
  },
  {
   "cell_type": "code",
   "execution_count": 60,
   "id": "440acf76-9114-4288-817a-42cc289eeb91",
   "metadata": {},
   "outputs": [],
   "source": [
    "#paired t test >> two sample from same population at different time interval is taken\n",
    "\n",
    "\n",
    "rohit_score_first_inning = [31, 36, 46, 24, 48, 46, 47, 47, 16, 35, 45, 37, 24, 29, 27, 42, 49, 37, 47, 46]\n",
    "rohit_score_second_inning = [31, 76, 46, 24, 48, 23, 49, 47, 37, 35, 45, 37, 74, 39, 27, 42, 49, 37, 47, 46]"
   ]
  },
  {
   "cell_type": "code",
   "execution_count": 61,
   "id": "c819cf0c-5635-41ae-b43a-447259c6453d",
   "metadata": {},
   "outputs": [
    {
     "data": {
      "text/plain": [
       "(37.95, 42.95)"
      ]
     },
     "execution_count": 61,
     "metadata": {},
     "output_type": "execute_result"
    }
   ],
   "source": [
    "np.mean(rohit_score_first_inning), np.mean(rohit_score_second_inning)"
   ]
  },
  {
   "cell_type": "code",
   "execution_count": 62,
   "id": "c7e077c5-7b47-439e-929e-d92f0eb71771",
   "metadata": {},
   "outputs": [
    {
     "data": {
      "text/plain": [
       "Ttest_relResult(statistic=-1.4256648712805027, pvalue=0.17018806846147658)"
      ]
     },
     "execution_count": 62,
     "metadata": {},
     "output_type": "execute_result"
    }
   ],
   "source": [
    "scipy.stats.ttest_rel(rohit_score_first_inning, rohit_score_second_inning)"
   ]
  },
  {
   "cell_type": "code",
   "execution_count": 63,
   "id": "5972b4ae-1ec0-4271-8421-2c00a8355bc0",
   "metadata": {},
   "outputs": [
    {
     "data": {
      "text/html": [
       "<div>\n",
       "<style scoped>\n",
       "    .dataframe tbody tr th:only-of-type {\n",
       "        vertical-align: middle;\n",
       "    }\n",
       "\n",
       "    .dataframe tbody tr th {\n",
       "        vertical-align: top;\n",
       "    }\n",
       "\n",
       "    .dataframe thead th {\n",
       "        text-align: right;\n",
       "    }\n",
       "</style>\n",
       "<table border=\"1\" class=\"dataframe\">\n",
       "  <thead>\n",
       "    <tr style=\"text-align: right;\">\n",
       "      <th></th>\n",
       "      <th>total_bill</th>\n",
       "      <th>tip</th>\n",
       "      <th>sex</th>\n",
       "      <th>smoker</th>\n",
       "      <th>day</th>\n",
       "      <th>time</th>\n",
       "      <th>size</th>\n",
       "    </tr>\n",
       "  </thead>\n",
       "  <tbody>\n",
       "    <tr>\n",
       "      <th>0</th>\n",
       "      <td>16.99</td>\n",
       "      <td>1.01</td>\n",
       "      <td>Female</td>\n",
       "      <td>No</td>\n",
       "      <td>Sun</td>\n",
       "      <td>Dinner</td>\n",
       "      <td>2</td>\n",
       "    </tr>\n",
       "    <tr>\n",
       "      <th>1</th>\n",
       "      <td>10.34</td>\n",
       "      <td>1.66</td>\n",
       "      <td>Male</td>\n",
       "      <td>No</td>\n",
       "      <td>Sun</td>\n",
       "      <td>Dinner</td>\n",
       "      <td>3</td>\n",
       "    </tr>\n",
       "    <tr>\n",
       "      <th>2</th>\n",
       "      <td>21.01</td>\n",
       "      <td>3.50</td>\n",
       "      <td>Male</td>\n",
       "      <td>No</td>\n",
       "      <td>Sun</td>\n",
       "      <td>Dinner</td>\n",
       "      <td>3</td>\n",
       "    </tr>\n",
       "    <tr>\n",
       "      <th>3</th>\n",
       "      <td>23.68</td>\n",
       "      <td>3.31</td>\n",
       "      <td>Male</td>\n",
       "      <td>No</td>\n",
       "      <td>Sun</td>\n",
       "      <td>Dinner</td>\n",
       "      <td>2</td>\n",
       "    </tr>\n",
       "    <tr>\n",
       "      <th>4</th>\n",
       "      <td>24.59</td>\n",
       "      <td>3.61</td>\n",
       "      <td>Female</td>\n",
       "      <td>No</td>\n",
       "      <td>Sun</td>\n",
       "      <td>Dinner</td>\n",
       "      <td>4</td>\n",
       "    </tr>\n",
       "    <tr>\n",
       "      <th>...</th>\n",
       "      <td>...</td>\n",
       "      <td>...</td>\n",
       "      <td>...</td>\n",
       "      <td>...</td>\n",
       "      <td>...</td>\n",
       "      <td>...</td>\n",
       "      <td>...</td>\n",
       "    </tr>\n",
       "    <tr>\n",
       "      <th>239</th>\n",
       "      <td>29.03</td>\n",
       "      <td>5.92</td>\n",
       "      <td>Male</td>\n",
       "      <td>No</td>\n",
       "      <td>Sat</td>\n",
       "      <td>Dinner</td>\n",
       "      <td>3</td>\n",
       "    </tr>\n",
       "    <tr>\n",
       "      <th>240</th>\n",
       "      <td>27.18</td>\n",
       "      <td>2.00</td>\n",
       "      <td>Female</td>\n",
       "      <td>Yes</td>\n",
       "      <td>Sat</td>\n",
       "      <td>Dinner</td>\n",
       "      <td>2</td>\n",
       "    </tr>\n",
       "    <tr>\n",
       "      <th>241</th>\n",
       "      <td>22.67</td>\n",
       "      <td>2.00</td>\n",
       "      <td>Male</td>\n",
       "      <td>Yes</td>\n",
       "      <td>Sat</td>\n",
       "      <td>Dinner</td>\n",
       "      <td>2</td>\n",
       "    </tr>\n",
       "    <tr>\n",
       "      <th>242</th>\n",
       "      <td>17.82</td>\n",
       "      <td>1.75</td>\n",
       "      <td>Male</td>\n",
       "      <td>No</td>\n",
       "      <td>Sat</td>\n",
       "      <td>Dinner</td>\n",
       "      <td>2</td>\n",
       "    </tr>\n",
       "    <tr>\n",
       "      <th>243</th>\n",
       "      <td>18.78</td>\n",
       "      <td>3.00</td>\n",
       "      <td>Female</td>\n",
       "      <td>No</td>\n",
       "      <td>Thur</td>\n",
       "      <td>Dinner</td>\n",
       "      <td>2</td>\n",
       "    </tr>\n",
       "  </tbody>\n",
       "</table>\n",
       "<p>244 rows × 7 columns</p>\n",
       "</div>"
      ],
      "text/plain": [
       "     total_bill   tip     sex smoker   day    time  size\n",
       "0         16.99  1.01  Female     No   Sun  Dinner     2\n",
       "1         10.34  1.66    Male     No   Sun  Dinner     3\n",
       "2         21.01  3.50    Male     No   Sun  Dinner     3\n",
       "3         23.68  3.31    Male     No   Sun  Dinner     2\n",
       "4         24.59  3.61  Female     No   Sun  Dinner     4\n",
       "..          ...   ...     ...    ...   ...     ...   ...\n",
       "239       29.03  5.92    Male     No   Sat  Dinner     3\n",
       "240       27.18  2.00  Female    Yes   Sat  Dinner     2\n",
       "241       22.67  2.00    Male    Yes   Sat  Dinner     2\n",
       "242       17.82  1.75    Male     No   Sat  Dinner     2\n",
       "243       18.78  3.00  Female     No  Thur  Dinner     2\n",
       "\n",
       "[244 rows x 7 columns]"
      ]
     },
     "execution_count": 63,
     "metadata": {},
     "output_type": "execute_result"
    }
   ],
   "source": [
    "#chisquare test\n",
    "\n",
    "data = sns.load_dataset(\"tips\")\n",
    "data"
   ]
  },
  {
   "cell_type": "code",
   "execution_count": 64,
   "id": "f4a2b1d6-3d3b-49f4-9cf8-003bb1477f85",
   "metadata": {},
   "outputs": [
    {
     "data": {
      "text/html": [
       "<div>\n",
       "<style scoped>\n",
       "    .dataframe tbody tr th:only-of-type {\n",
       "        vertical-align: middle;\n",
       "    }\n",
       "\n",
       "    .dataframe tbody tr th {\n",
       "        vertical-align: top;\n",
       "    }\n",
       "\n",
       "    .dataframe thead th {\n",
       "        text-align: right;\n",
       "    }\n",
       "</style>\n",
       "<table border=\"1\" class=\"dataframe\">\n",
       "  <thead>\n",
       "    <tr style=\"text-align: right;\">\n",
       "      <th></th>\n",
       "      <th>sex</th>\n",
       "      <th>smoker</th>\n",
       "    </tr>\n",
       "  </thead>\n",
       "  <tbody>\n",
       "    <tr>\n",
       "      <th>0</th>\n",
       "      <td>Female</td>\n",
       "      <td>No</td>\n",
       "    </tr>\n",
       "    <tr>\n",
       "      <th>1</th>\n",
       "      <td>Male</td>\n",
       "      <td>No</td>\n",
       "    </tr>\n",
       "    <tr>\n",
       "      <th>2</th>\n",
       "      <td>Male</td>\n",
       "      <td>No</td>\n",
       "    </tr>\n",
       "    <tr>\n",
       "      <th>3</th>\n",
       "      <td>Male</td>\n",
       "      <td>No</td>\n",
       "    </tr>\n",
       "    <tr>\n",
       "      <th>4</th>\n",
       "      <td>Female</td>\n",
       "      <td>No</td>\n",
       "    </tr>\n",
       "    <tr>\n",
       "      <th>...</th>\n",
       "      <td>...</td>\n",
       "      <td>...</td>\n",
       "    </tr>\n",
       "    <tr>\n",
       "      <th>239</th>\n",
       "      <td>Male</td>\n",
       "      <td>No</td>\n",
       "    </tr>\n",
       "    <tr>\n",
       "      <th>240</th>\n",
       "      <td>Female</td>\n",
       "      <td>Yes</td>\n",
       "    </tr>\n",
       "    <tr>\n",
       "      <th>241</th>\n",
       "      <td>Male</td>\n",
       "      <td>Yes</td>\n",
       "    </tr>\n",
       "    <tr>\n",
       "      <th>242</th>\n",
       "      <td>Male</td>\n",
       "      <td>No</td>\n",
       "    </tr>\n",
       "    <tr>\n",
       "      <th>243</th>\n",
       "      <td>Female</td>\n",
       "      <td>No</td>\n",
       "    </tr>\n",
       "  </tbody>\n",
       "</table>\n",
       "<p>244 rows × 2 columns</p>\n",
       "</div>"
      ],
      "text/plain": [
       "        sex smoker\n",
       "0    Female     No\n",
       "1      Male     No\n",
       "2      Male     No\n",
       "3      Male     No\n",
       "4    Female     No\n",
       "..      ...    ...\n",
       "239    Male     No\n",
       "240  Female    Yes\n",
       "241    Male    Yes\n",
       "242    Male     No\n",
       "243  Female     No\n",
       "\n",
       "[244 rows x 2 columns]"
      ]
     },
     "execution_count": 64,
     "metadata": {},
     "output_type": "execute_result"
    }
   ],
   "source": [
    "data[['sex', 'smoker']]"
   ]
  },
  {
   "cell_type": "code",
   "execution_count": 65,
   "id": "03d1deb7-be6a-4eb5-b39a-a71d75668915",
   "metadata": {},
   "outputs": [],
   "source": [
    "data_table = pd.crosstab(data['sex'], data['smoker'])"
   ]
  },
  {
   "cell_type": "code",
   "execution_count": 66,
   "id": "ccc70f07-b38d-44d0-9e89-e65a715afa90",
   "metadata": {},
   "outputs": [
    {
     "data": {
      "text/html": [
       "<div>\n",
       "<style scoped>\n",
       "    .dataframe tbody tr th:only-of-type {\n",
       "        vertical-align: middle;\n",
       "    }\n",
       "\n",
       "    .dataframe tbody tr th {\n",
       "        vertical-align: top;\n",
       "    }\n",
       "\n",
       "    .dataframe thead th {\n",
       "        text-align: right;\n",
       "    }\n",
       "</style>\n",
       "<table border=\"1\" class=\"dataframe\">\n",
       "  <thead>\n",
       "    <tr style=\"text-align: right;\">\n",
       "      <th>smoker</th>\n",
       "      <th>Yes</th>\n",
       "      <th>No</th>\n",
       "    </tr>\n",
       "    <tr>\n",
       "      <th>sex</th>\n",
       "      <th></th>\n",
       "      <th></th>\n",
       "    </tr>\n",
       "  </thead>\n",
       "  <tbody>\n",
       "    <tr>\n",
       "      <th>Male</th>\n",
       "      <td>60</td>\n",
       "      <td>97</td>\n",
       "    </tr>\n",
       "    <tr>\n",
       "      <th>Female</th>\n",
       "      <td>33</td>\n",
       "      <td>54</td>\n",
       "    </tr>\n",
       "  </tbody>\n",
       "</table>\n",
       "</div>"
      ],
      "text/plain": [
       "smoker  Yes  No\n",
       "sex            \n",
       "Male     60  97\n",
       "Female   33  54"
      ]
     },
     "execution_count": 66,
     "metadata": {},
     "output_type": "execute_result"
    }
   ],
   "source": [
    "data_table"
   ]
  },
  {
   "cell_type": "code",
   "execution_count": 68,
   "id": "bb435bd3-18ff-4e5f-b5f7-2d354d1e47f6",
   "metadata": {},
   "outputs": [],
   "source": [
    "observed_values = data_table.values"
   ]
  },
  {
   "cell_type": "code",
   "execution_count": 70,
   "id": "9dc5e0d5-2281-4d8f-bd4e-24eaeb985ffa",
   "metadata": {},
   "outputs": [],
   "source": [
    "import scipy.stats as stats\n",
    "\n",
    "stats_test, p, dof, expected_values = stats.chi2_contingency(observed_values)"
   ]
  },
  {
   "cell_type": "code",
   "execution_count": 71,
   "id": "7cacc60c-8430-4ca8-a999-3fb6f77bb539",
   "metadata": {},
   "outputs": [
    {
     "data": {
      "text/plain": [
       "array([[59.84016393, 97.15983607],\n",
       "       [33.15983607, 53.84016393]])"
      ]
     },
     "execution_count": 71,
     "metadata": {},
     "output_type": "execute_result"
    }
   ],
   "source": [
    "#chisquare test >> observed values and expected values #using chisquare critical method\n",
    "\n",
    "expected_values"
   ]
  },
  {
   "cell_type": "code",
   "execution_count": 72,
   "id": "f6d0c80e-49a6-4622-b6eb-0b702dc34937",
   "metadata": {},
   "outputs": [
    {
     "data": {
      "text/plain": [
       "array([[60, 97],\n",
       "       [33, 54]])"
      ]
     },
     "execution_count": 72,
     "metadata": {},
     "output_type": "execute_result"
    }
   ],
   "source": [
    "observed_values"
   ]
  },
  {
   "cell_type": "code",
   "execution_count": 73,
   "id": "155838ea-2fea-458c-89d0-e562f9430894",
   "metadata": {},
   "outputs": [],
   "source": [
    "#dof = (no of rows - 1) * (no of columns -1)\n",
    "dof = 1"
   ]
  },
  {
   "cell_type": "code",
   "execution_count": 74,
   "id": "d75d7d1a-68f3-4ed7-bbda-9ac78c3401d9",
   "metadata": {},
   "outputs": [],
   "source": [
    "from scipy.stats import chi2"
   ]
  },
  {
   "cell_type": "code",
   "execution_count": 75,
   "id": "1b0c9e97-b217-4ff0-97a5-d2a011fb84ad",
   "metadata": {},
   "outputs": [
    {
     "name": "stdout",
     "output_type": "stream",
     "text": [
      "(array([60, 97]), array([59.84016393, 97.15983607]))\n",
      "(array([33, 54]), array([33.15983607, 53.84016393]))\n"
     ]
    }
   ],
   "source": [
    "for i in zip(observed_values, expected_values):\n",
    "    print(i)"
   ]
  },
  {
   "cell_type": "code",
   "execution_count": 76,
   "id": "ea589746-7ccb-4d43-a833-c9d0ff48ce88",
   "metadata": {},
   "outputs": [],
   "source": [
    "chisquare_test = sum([(o-e)**2 / e for o, e in zip(observed_values, expected_values)])"
   ]
  },
  {
   "cell_type": "code",
   "execution_count": 77,
   "id": "daef703b-6ae8-48a1-ab1a-e17ff35489fa",
   "metadata": {},
   "outputs": [
    {
     "data": {
      "text/plain": [
       "array([0.00119737, 0.00073745])"
      ]
     },
     "execution_count": 77,
     "metadata": {},
     "output_type": "execute_result"
    }
   ],
   "source": [
    "chisquare_test"
   ]
  },
  {
   "cell_type": "code",
   "execution_count": 78,
   "id": "87a177e3-e314-4818-b900-a22758f834ff",
   "metadata": {},
   "outputs": [
    {
     "data": {
      "text/plain": [
       "0.001934818536627623"
      ]
     },
     "execution_count": 78,
     "metadata": {},
     "output_type": "execute_result"
    }
   ],
   "source": [
    "chisquare_stats = chisquare_test[0] +  chisquare_test[1]\n",
    "chisquare_stats"
   ]
  },
  {
   "cell_type": "code",
   "execution_count": 79,
   "id": "97560a01-771a-45d0-8ae4-5755b88fbb1e",
   "metadata": {},
   "outputs": [
    {
     "data": {
      "text/plain": [
       "1"
      ]
     },
     "execution_count": 79,
     "metadata": {},
     "output_type": "execute_result"
    }
   ],
   "source": [
    "dof"
   ]
  },
  {
   "cell_type": "code",
   "execution_count": 80,
   "id": "0050c61d-1ac7-41c6-a79a-cdffc95256bb",
   "metadata": {},
   "outputs": [
    {
     "data": {
      "text/plain": [
       "0.05"
      ]
     },
     "execution_count": 80,
     "metadata": {},
     "output_type": "execute_result"
    }
   ],
   "source": [
    "alpha"
   ]
  },
  {
   "cell_type": "code",
   "execution_count": 81,
   "id": "11307c2f-de1f-498f-9eb0-93ffa7e79d8f",
   "metadata": {},
   "outputs": [],
   "source": [
    "chi2_critical = chi2.ppf(1-alpha, df = dof)"
   ]
  },
  {
   "cell_type": "code",
   "execution_count": 82,
   "id": "7726bef7-aa9e-4dba-b61f-d1029322fd31",
   "metadata": {},
   "outputs": [
    {
     "data": {
      "text/plain": [
       "3.841458820694124"
      ]
     },
     "execution_count": 82,
     "metadata": {},
     "output_type": "execute_result"
    }
   ],
   "source": [
    "chi2_critical"
   ]
  },
  {
   "cell_type": "code",
   "execution_count": 83,
   "id": "2ca927f9-2a9a-4cbb-9ece-44baf5f1a088",
   "metadata": {},
   "outputs": [
    {
     "name": "stdout",
     "output_type": "stream",
     "text": [
      "fail to reject null hypothesis, no relationship\n"
     ]
    }
   ],
   "source": [
    "if chisquare_stats >= chi2_critical:\n",
    "    print(\"reject the null hypothesis, there is a relationship between two categorical variable\")\n",
    "else:\n",
    "    print(\"fail to reject null hypothesis, no relationship\")"
   ]
  },
  {
   "cell_type": "code",
   "execution_count": 84,
   "id": "eb05463e-b455-4a62-ab20-0d094315b7c3",
   "metadata": {},
   "outputs": [
    {
     "name": "stdout",
     "output_type": "stream",
     "text": [
      "fail to reject null hypothesis, no relationship\n"
     ]
    }
   ],
   "source": [
    "#pvalue method\n",
    "\n",
    "p_value = 1-chi2.cdf(x = chisquare_stats, df = dof)\n",
    "\n",
    "if p_value <= alpha:\n",
    "    print(\"reject the null hypothesis, there is a relationship between two categorical variable\")\n",
    "else:\n",
    "    print(\"fail to reject null hypothesis, no relationship\")"
   ]
  },
  {
   "cell_type": "code",
   "execution_count": 86,
   "id": "e91d3c7d-15eb-41ab-bccf-9b1a5884634e",
   "metadata": {},
   "outputs": [
    {
     "data": {
      "text/plain": [
       "(45, 45)"
      ]
     },
     "execution_count": 86,
     "metadata": {},
     "output_type": "execute_result"
    }
   ],
   "source": [
    "#no of hours student study daily in a weekly basis\n",
    "#monday, tuesday ... sunday\n",
    "\n",
    "expected_data = [8, 5, 6, 8, 5, 7, 6]\n",
    "observed_data = [7, 4, 7, 9, 4, 8, 6]\n",
    "\n",
    "sum(expected_data), sum(observed_data)"
   ]
  },
  {
   "cell_type": "code",
   "execution_count": 87,
   "id": "c1cd9929-9135-481b-872a-19b04bcf8fc6",
   "metadata": {},
   "outputs": [],
   "source": [
    "chsquare_stats, pvalue = stats.chisquare(observed_data, expected_data)"
   ]
  },
  {
   "cell_type": "code",
   "execution_count": 88,
   "id": "970c572b-d9a2-440b-9afe-2f87e521ff8e",
   "metadata": {},
   "outputs": [
    {
     "data": {
      "text/plain": [
       "(0.9595238095238094, 0.9871002325555286)"
      ]
     },
     "execution_count": 88,
     "metadata": {},
     "output_type": "execute_result"
    }
   ],
   "source": [
    "chsquare_stats, pvalue"
   ]
  },
  {
   "cell_type": "code",
   "execution_count": 93,
   "id": "4e75c145-f354-45bf-88a0-08d8f8a74509",
   "metadata": {},
   "outputs": [],
   "source": [
    "#find the critical value\n",
    "alpha = 0.05\n",
    "dof = len(observed_data) -1\n",
    "critical_value = stats.chi2.ppf(1-alpha, dof)"
   ]
  },
  {
   "cell_type": "code",
   "execution_count": 94,
   "id": "6f92ec72-6dc1-4edd-8feb-19c9e568c153",
   "metadata": {},
   "outputs": [
    {
     "data": {
      "text/plain": [
       "12.591587243743977"
      ]
     },
     "execution_count": 94,
     "metadata": {},
     "output_type": "execute_result"
    }
   ],
   "source": [
    "critical_value"
   ]
  },
  {
   "cell_type": "code",
   "execution_count": null,
   "id": "8c1899ab-38bd-4719-b68b-999bf12f5846",
   "metadata": {},
   "outputs": [],
   "source": [
    "if chsquare_stats > critical_value:\n",
    "    print(\"Reject the null hypothesis\")"
   ]
  }
 ],
 "metadata": {
  "kernelspec": {
   "display_name": "Python 3",
   "language": "python",
   "name": "python3"
  },
  "language_info": {
   "codemirror_mode": {
    "name": "ipython",
    "version": 3
   },
   "file_extension": ".py",
   "mimetype": "text/x-python",
   "name": "python",
   "nbconvert_exporter": "python",
   "pygments_lexer": "ipython3",
   "version": "3.12.6"
  }
 },
 "nbformat": 4,
 "nbformat_minor": 5
}
