{
 "cells": [
  {
   "cell_type": "code",
   "execution_count": 14,
   "metadata": {},
   "outputs": [],
   "source": [
    "from sklearn.datasets import make_regression\n",
    "from xgboost import XGBRegressor\n",
    "from sklearn.model_selection import train_test_split\n",
    "from sklearn.metrics import r2_score\n"
   ]
  },
  {
   "cell_type": "code",
   "execution_count": 15,
   "metadata": {},
   "outputs": [],
   "source": [
    "X,y=make_regression(n_samples=1000,n_features=2,noise=2)"
   ]
  },
  {
   "cell_type": "code",
   "execution_count": 16,
   "metadata": {},
   "outputs": [],
   "source": [
    "x_train,x_test,y_train,y_test=train_test_split(X,y,test_size=0.2,random_state=1)"
   ]
  },
  {
   "cell_type": "code",
   "execution_count": 17,
   "metadata": {},
   "outputs": [],
   "source": [
    "model=XGBRegressor()\n",
    "model.fit(x_train,y_train)\n",
    "y_pred=model.predict(x_test)"
   ]
  },
  {
   "cell_type": "code",
   "execution_count": 18,
   "metadata": {},
   "outputs": [
    {
     "name": "stdout",
     "output_type": "stream",
     "text": [
      "0.9927032620651308\n"
     ]
    }
   ],
   "source": [
    "print(r2_score(y_test,y_pred))\n"
   ]
  },
  {
   "cell_type": "code",
   "execution_count": 19,
   "metadata": {},
   "outputs": [],
   "source": [
    "params={\n",
    "    \"n_estimators\":[50,100,200],\n",
    "    \"learning_rate\":[0.01,0.05,0.1,0.2]\n",
    "}"
   ]
  },
  {
   "cell_type": "code",
   "execution_count": 20,
   "metadata": {},
   "outputs": [],
   "source": [
    "from sklearn.model_selection import GridSearchCV\n",
    "model=GridSearchCV(XGBRegressor(),param_grid=params,cv=5,verbose=3)"
   ]
  },
  {
   "cell_type": "code",
   "execution_count": 21,
   "metadata": {},
   "outputs": [
    {
     "name": "stdout",
     "output_type": "stream",
     "text": [
      "Fitting 5 folds for each of 12 candidates, totalling 60 fits\n",
      "[CV 1/5] END learning_rate=0.01, n_estimators=50;, score=0.558 total time=   0.1s\n",
      "[CV 2/5] END learning_rate=0.01, n_estimators=50;, score=0.579 total time=   0.3s\n",
      "[CV 3/5] END learning_rate=0.01, n_estimators=50;, score=0.592 total time=   0.2s\n",
      "[CV 4/5] END learning_rate=0.01, n_estimators=50;, score=0.581 total time=   0.3s\n",
      "[CV 5/5] END learning_rate=0.01, n_estimators=50;, score=0.572 total time=   0.0s\n",
      "[CV 1/5] END learning_rate=0.01, n_estimators=100;, score=0.798 total time=   0.1s\n",
      "[CV 2/5] END learning_rate=0.01, n_estimators=100;, score=0.809 total time=   0.3s\n",
      "[CV 3/5] END learning_rate=0.01, n_estimators=100;, score=0.822 total time=   0.2s\n",
      "[CV 4/5] END learning_rate=0.01, n_estimators=100;, score=0.823 total time=   0.1s\n",
      "[CV 5/5] END learning_rate=0.01, n_estimators=100;, score=0.806 total time=   0.1s\n",
      "[CV 1/5] END learning_rate=0.01, n_estimators=200;, score=0.947 total time=   0.3s\n",
      "[CV 2/5] END learning_rate=0.01, n_estimators=200;, score=0.949 total time=   0.6s\n",
      "[CV 3/5] END learning_rate=0.01, n_estimators=200;, score=0.961 total time=   0.5s\n",
      "[CV 4/5] END learning_rate=0.01, n_estimators=200;, score=0.962 total time=   0.3s\n",
      "[CV 5/5] END learning_rate=0.01, n_estimators=200;, score=0.948 total time=   0.3s\n",
      "[CV 1/5] END learning_rate=0.05, n_estimators=50;, score=0.970 total time=   0.0s\n",
      "[CV 2/5] END learning_rate=0.05, n_estimators=50;, score=0.971 total time=   0.0s\n",
      "[CV 3/5] END learning_rate=0.05, n_estimators=50;, score=0.979 total time=   0.0s\n",
      "[CV 4/5] END learning_rate=0.05, n_estimators=50;, score=0.981 total time=   0.0s\n",
      "[CV 5/5] END learning_rate=0.05, n_estimators=50;, score=0.969 total time=   0.0s\n",
      "[CV 1/5] END learning_rate=0.05, n_estimators=100;, score=0.988 total time=   0.1s\n",
      "[CV 2/5] END learning_rate=0.05, n_estimators=100;, score=0.986 total time=   0.1s\n",
      "[CV 3/5] END learning_rate=0.05, n_estimators=100;, score=0.992 total time=   0.1s\n",
      "[CV 4/5] END learning_rate=0.05, n_estimators=100;, score=0.995 total time=   0.1s\n",
      "[CV 5/5] END learning_rate=0.05, n_estimators=100;, score=0.987 total time=   0.1s\n",
      "[CV 1/5] END learning_rate=0.05, n_estimators=200;, score=0.991 total time=   0.2s\n",
      "[CV 2/5] END learning_rate=0.05, n_estimators=200;, score=0.988 total time=   0.4s\n",
      "[CV 3/5] END learning_rate=0.05, n_estimators=200;, score=0.993 total time=   0.3s\n",
      "[CV 4/5] END learning_rate=0.05, n_estimators=200;, score=0.996 total time=   0.4s\n",
      "[CV 5/5] END learning_rate=0.05, n_estimators=200;, score=0.989 total time=   0.3s\n",
      "[CV 1/5] END learning_rate=0.1, n_estimators=50;, score=0.989 total time=   0.1s\n",
      "[CV 2/5] END learning_rate=0.1, n_estimators=50;, score=0.987 total time=   0.0s\n",
      "[CV 3/5] END learning_rate=0.1, n_estimators=50;, score=0.993 total time=   0.0s\n",
      "[CV 4/5] END learning_rate=0.1, n_estimators=50;, score=0.995 total time=   0.0s\n",
      "[CV 5/5] END learning_rate=0.1, n_estimators=50;, score=0.987 total time=   0.0s\n",
      "[CV 1/5] END learning_rate=0.1, n_estimators=100;, score=0.991 total time=   0.1s\n",
      "[CV 2/5] END learning_rate=0.1, n_estimators=100;, score=0.988 total time=   0.1s\n",
      "[CV 3/5] END learning_rate=0.1, n_estimators=100;, score=0.993 total time=   0.1s\n",
      "[CV 4/5] END learning_rate=0.1, n_estimators=100;, score=0.996 total time=   0.1s\n",
      "[CV 5/5] END learning_rate=0.1, n_estimators=100;, score=0.989 total time=   0.1s\n",
      "[CV 1/5] END learning_rate=0.1, n_estimators=200;, score=0.991 total time=   1.3s\n",
      "[CV 2/5] END learning_rate=0.1, n_estimators=200;, score=0.989 total time=   1.0s\n",
      "[CV 3/5] END learning_rate=0.1, n_estimators=200;, score=0.994 total time=   0.5s\n",
      "[CV 4/5] END learning_rate=0.1, n_estimators=200;, score=0.996 total time=   0.2s\n",
      "[CV 5/5] END learning_rate=0.1, n_estimators=200;, score=0.990 total time=   0.2s\n",
      "[CV 1/5] END learning_rate=0.2, n_estimators=50;, score=0.989 total time=   0.0s\n",
      "[CV 2/5] END learning_rate=0.2, n_estimators=50;, score=0.987 total time=   0.0s\n",
      "[CV 3/5] END learning_rate=0.2, n_estimators=50;, score=0.993 total time=   0.0s\n",
      "[CV 4/5] END learning_rate=0.2, n_estimators=50;, score=0.995 total time=   0.0s\n",
      "[CV 5/5] END learning_rate=0.2, n_estimators=50;, score=0.988 total time=   0.0s\n",
      "[CV 1/5] END learning_rate=0.2, n_estimators=100;, score=0.989 total time=   0.1s\n",
      "[CV 2/5] END learning_rate=0.2, n_estimators=100;, score=0.987 total time=   0.1s\n",
      "[CV 3/5] END learning_rate=0.2, n_estimators=100;, score=0.994 total time=   0.1s\n",
      "[CV 4/5] END learning_rate=0.2, n_estimators=100;, score=0.995 total time=   0.1s\n",
      "[CV 5/5] END learning_rate=0.2, n_estimators=100;, score=0.989 total time=   0.2s\n",
      "[CV 1/5] END learning_rate=0.2, n_estimators=200;, score=0.989 total time=   0.5s\n",
      "[CV 2/5] END learning_rate=0.2, n_estimators=200;, score=0.987 total time=   0.3s\n",
      "[CV 3/5] END learning_rate=0.2, n_estimators=200;, score=0.994 total time=   0.3s\n",
      "[CV 4/5] END learning_rate=0.2, n_estimators=200;, score=0.995 total time=   0.3s\n",
      "[CV 5/5] END learning_rate=0.2, n_estimators=200;, score=0.989 total time=   0.3s\n"
     ]
    }
   ],
   "source": [
    "model.fit(x_train,y_train)\n",
    "y_pred=model.predict(x_test)"
   ]
  },
  {
   "cell_type": "code",
   "execution_count": 22,
   "metadata": {},
   "outputs": [
    {
     "name": "stdout",
     "output_type": "stream",
     "text": [
      "0.9933000291579724\n"
     ]
    }
   ],
   "source": [
    "print(r2_score(y_test,y_pred))"
   ]
  },
  {
   "cell_type": "code",
   "execution_count": null,
   "metadata": {},
   "outputs": [],
   "source": [
    "\n"
   ]
  }
 ],
 "metadata": {
  "kernelspec": {
   "display_name": "Python 3",
   "language": "python",
   "name": "python3"
  },
  "language_info": {
   "codemirror_mode": {
    "name": "ipython",
    "version": 3
   },
   "file_extension": ".py",
   "mimetype": "text/x-python",
   "name": "python",
   "nbconvert_exporter": "python",
   "pygments_lexer": "ipython3",
   "version": "3.12.6"
  }
 },
 "nbformat": 4,
 "nbformat_minor": 2
}
