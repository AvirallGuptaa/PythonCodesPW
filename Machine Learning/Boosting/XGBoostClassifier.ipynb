{
 "cells": [
  {
   "cell_type": "code",
   "execution_count": null,
   "metadata": {},
   "outputs": [],
   "source": [
    "from sklearn.datasets import make_classification\n",
    "from xgboost import XGBClassifier\n",
    "from sklearn.model_selection import train_test_split\n",
    "from sklearn.metrics import accuracy_score"
   ]
  },
  {
   "cell_type": "code",
   "execution_count": 7,
   "metadata": {},
   "outputs": [],
   "source": [
    "X,y=make_classification(n_samples=1000,n_features=20,n_classes=2,random_state=1)"
   ]
  },
  {
   "cell_type": "code",
   "execution_count": 9,
   "metadata": {},
   "outputs": [],
   "source": [
    "x_train,x_test,y_train,y_test=train_test_split(X,y,test_size=0.2,random_state=1)"
   ]
  },
  {
   "cell_type": "code",
   "execution_count": 10,
   "metadata": {},
   "outputs": [],
   "source": [
    "model=XGBClassifier()\n",
    "model.fit(x_train,y_train)\n",
    "y_pred=model.predict(x_test)"
   ]
  },
  {
   "cell_type": "code",
   "execution_count": 11,
   "metadata": {},
   "outputs": [
    {
     "name": "stdout",
     "output_type": "stream",
     "text": [
      "0.845\n"
     ]
    }
   ],
   "source": [
    "print(accuracy_score(y_test,y_pred))"
   ]
  },
  {
   "cell_type": "code",
   "execution_count": 14,
   "metadata": {},
   "outputs": [],
   "source": [
    "params={\n",
    "    \"n_estimators\":[50,100,200],\n",
    "    \"learning_rate\":[0.01,0.05,0.1,0.2]\n",
    "}"
   ]
  },
  {
   "cell_type": "code",
   "execution_count": 15,
   "metadata": {},
   "outputs": [],
   "source": [
    "from sklearn.model_selection import GridSearchCV\n",
    "model=GridSearchCV(XGBClassifier(),param_grid=params,cv=5,verbose=3)"
   ]
  },
  {
   "cell_type": "code",
   "execution_count": 16,
   "metadata": {},
   "outputs": [
    {
     "name": "stdout",
     "output_type": "stream",
     "text": [
      "Fitting 5 folds for each of 12 candidates, totalling 60 fits\n",
      "[CV 1/5] END learning_rate=0.01, n_estimators=50;, score=0.844 total time=   0.5s\n",
      "[CV 2/5] END learning_rate=0.01, n_estimators=50;, score=0.856 total time=   0.4s\n",
      "[CV 3/5] END learning_rate=0.01, n_estimators=50;, score=0.825 total time=   0.3s\n",
      "[CV 4/5] END learning_rate=0.01, n_estimators=50;, score=0.831 total time=   0.3s\n",
      "[CV 5/5] END learning_rate=0.01, n_estimators=50;, score=0.844 total time=   0.3s\n",
      "[CV 1/5] END learning_rate=0.01, n_estimators=100;, score=0.856 total time=   0.6s\n",
      "[CV 2/5] END learning_rate=0.01, n_estimators=100;, score=0.856 total time=   0.9s\n",
      "[CV 3/5] END learning_rate=0.01, n_estimators=100;, score=0.838 total time=   1.2s\n",
      "[CV 4/5] END learning_rate=0.01, n_estimators=100;, score=0.844 total time=   0.7s\n",
      "[CV 5/5] END learning_rate=0.01, n_estimators=100;, score=0.844 total time=   0.7s\n",
      "[CV 1/5] END learning_rate=0.01, n_estimators=200;, score=0.850 total time=   1.6s\n",
      "[CV 2/5] END learning_rate=0.01, n_estimators=200;, score=0.863 total time=   2.7s\n",
      "[CV 3/5] END learning_rate=0.01, n_estimators=200;, score=0.844 total time=   1.7s\n",
      "[CV 4/5] END learning_rate=0.01, n_estimators=200;, score=0.844 total time=   1.5s\n",
      "[CV 5/5] END learning_rate=0.01, n_estimators=200;, score=0.850 total time=   2.4s\n",
      "[CV 1/5] END learning_rate=0.05, n_estimators=50;, score=0.844 total time=   0.3s\n",
      "[CV 2/5] END learning_rate=0.05, n_estimators=50;, score=0.856 total time=   0.4s\n",
      "[CV 3/5] END learning_rate=0.05, n_estimators=50;, score=0.850 total time=   0.4s\n",
      "[CV 4/5] END learning_rate=0.05, n_estimators=50;, score=0.856 total time=   0.5s\n",
      "[CV 5/5] END learning_rate=0.05, n_estimators=50;, score=0.863 total time=   0.4s\n",
      "[CV 1/5] END learning_rate=0.05, n_estimators=100;, score=0.856 total time=   0.6s\n",
      "[CV 2/5] END learning_rate=0.05, n_estimators=100;, score=0.850 total time=   0.5s\n",
      "[CV 3/5] END learning_rate=0.05, n_estimators=100;, score=0.844 total time=   0.6s\n",
      "[CV 4/5] END learning_rate=0.05, n_estimators=100;, score=0.844 total time=   1.3s\n",
      "[CV 5/5] END learning_rate=0.05, n_estimators=100;, score=0.863 total time=   0.7s\n",
      "[CV 1/5] END learning_rate=0.05, n_estimators=200;, score=0.850 total time=   1.2s\n",
      "[CV 2/5] END learning_rate=0.05, n_estimators=200;, score=0.856 total time=   1.8s\n",
      "[CV 3/5] END learning_rate=0.05, n_estimators=200;, score=0.850 total time=   1.3s\n",
      "[CV 4/5] END learning_rate=0.05, n_estimators=200;, score=0.844 total time=   1.3s\n",
      "[CV 5/5] END learning_rate=0.05, n_estimators=200;, score=0.850 total time=   1.9s\n",
      "[CV 1/5] END learning_rate=0.1, n_estimators=50;, score=0.850 total time=   0.3s\n",
      "[CV 2/5] END learning_rate=0.1, n_estimators=50;, score=0.875 total time=   0.4s\n",
      "[CV 3/5] END learning_rate=0.1, n_estimators=50;, score=0.838 total time=   0.3s\n",
      "[CV 4/5] END learning_rate=0.1, n_estimators=50;, score=0.844 total time=   0.3s\n",
      "[CV 5/5] END learning_rate=0.1, n_estimators=50;, score=0.869 total time=   1.1s\n",
      "[CV 1/5] END learning_rate=0.1, n_estimators=100;, score=0.863 total time=   0.4s\n",
      "[CV 2/5] END learning_rate=0.1, n_estimators=100;, score=0.869 total time=   0.4s\n",
      "[CV 3/5] END learning_rate=0.1, n_estimators=100;, score=0.850 total time=   0.5s\n",
      "[CV 4/5] END learning_rate=0.1, n_estimators=100;, score=0.838 total time=   0.3s\n",
      "[CV 5/5] END learning_rate=0.1, n_estimators=100;, score=0.863 total time=   0.4s\n",
      "[CV 1/5] END learning_rate=0.1, n_estimators=200;, score=0.863 total time=   0.6s\n",
      "[CV 2/5] END learning_rate=0.1, n_estimators=200;, score=0.856 total time=   0.7s\n",
      "[CV 3/5] END learning_rate=0.1, n_estimators=200;, score=0.838 total time=   0.6s\n",
      "[CV 4/5] END learning_rate=0.1, n_estimators=200;, score=0.850 total time=   0.7s\n",
      "[CV 5/5] END learning_rate=0.1, n_estimators=200;, score=0.844 total time=   0.8s\n",
      "[CV 1/5] END learning_rate=0.2, n_estimators=50;, score=0.856 total time=   0.2s\n",
      "[CV 2/5] END learning_rate=0.2, n_estimators=50;, score=0.856 total time=   0.2s\n",
      "[CV 3/5] END learning_rate=0.2, n_estimators=50;, score=0.869 total time=   0.2s\n",
      "[CV 4/5] END learning_rate=0.2, n_estimators=50;, score=0.844 total time=   0.1s\n",
      "[CV 5/5] END learning_rate=0.2, n_estimators=50;, score=0.844 total time=   0.1s\n",
      "[CV 1/5] END learning_rate=0.2, n_estimators=100;, score=0.863 total time=   0.5s\n",
      "[CV 2/5] END learning_rate=0.2, n_estimators=100;, score=0.856 total time=   0.3s\n",
      "[CV 3/5] END learning_rate=0.2, n_estimators=100;, score=0.869 total time=   0.3s\n",
      "[CV 4/5] END learning_rate=0.2, n_estimators=100;, score=0.856 total time=   0.3s\n",
      "[CV 5/5] END learning_rate=0.2, n_estimators=100;, score=0.838 total time=   0.3s\n",
      "[CV 1/5] END learning_rate=0.2, n_estimators=200;, score=0.863 total time=   0.8s\n",
      "[CV 2/5] END learning_rate=0.2, n_estimators=200;, score=0.856 total time=   0.6s\n",
      "[CV 3/5] END learning_rate=0.2, n_estimators=200;, score=0.875 total time=   0.7s\n",
      "[CV 4/5] END learning_rate=0.2, n_estimators=200;, score=0.850 total time=   0.4s\n",
      "[CV 5/5] END learning_rate=0.2, n_estimators=200;, score=0.838 total time=   0.9s\n"
     ]
    }
   ],
   "source": [
    "model.fit(x_train,y_train)\n",
    "y_pred=model.predict(x_test)"
   ]
  },
  {
   "cell_type": "code",
   "execution_count": 17,
   "metadata": {},
   "outputs": [
    {
     "name": "stdout",
     "output_type": "stream",
     "text": [
      "0.855\n"
     ]
    }
   ],
   "source": [
    "print(accuracy_score(y_test,y_pred))"
   ]
  },
  {
   "cell_type": "code",
   "execution_count": null,
   "metadata": {},
   "outputs": [],
   "source": []
  }
 ],
 "metadata": {
  "kernelspec": {
   "display_name": "Python 3",
   "language": "python",
   "name": "python3"
  },
  "language_info": {
   "codemirror_mode": {
    "name": "ipython",
    "version": 3
   },
   "file_extension": ".py",
   "mimetype": "text/x-python",
   "name": "python",
   "nbconvert_exporter": "python",
   "pygments_lexer": "ipython3",
   "version": "3.12.6"
  }
 },
 "nbformat": 4,
 "nbformat_minor": 2
}
