{
 "cells": [
  {
   "cell_type": "code",
   "execution_count": 1,
   "metadata": {},
   "outputs": [],
   "source": [
    "import numpy as np"
   ]
  },
  {
   "cell_type": "code",
   "execution_count": 7,
   "metadata": {},
   "outputs": [
    {
     "data": {
      "text/plain": [
       "dtype('int64')"
      ]
     },
     "execution_count": 7,
     "metadata": {},
     "output_type": "execute_result"
    }
   ],
   "source": [
    "arr=np.array([1,2,3,4,5])\n",
    "arr.dtype\n"
   ]
  },
  {
   "cell_type": "code",
   "execution_count": 4,
   "metadata": {},
   "outputs": [
    {
     "name": "stdout",
     "output_type": "stream",
     "text": [
      "Yes\n"
     ]
    }
   ],
   "source": [
    "arr = np.array([1.5, 2.6, 3.7])\n",
    "\n",
    "if(arr.dtype==float):\n",
    "    print(\"Yes\")\n",
    "else:\n",
    "    print(\"no\")"
   ]
  },
  {
   "cell_type": "code",
   "execution_count": 8,
   "metadata": {},
   "outputs": [
    {
     "name": "stdout",
     "output_type": "stream",
     "text": [
      "[1. 2. 3. 4. 5.]\n",
      "float32\n"
     ]
    }
   ],
   "source": [
    "#Convert an existing NumPy array 'arr' of integers to float32 data type.\n",
    "import numpy as np\n",
    "\n",
    "# Example integer NumPy array\n",
    "arr = np.array([1, 2, 3, 4, 5])\n",
    "\n",
    "# Convert the array to float32 data type\n",
    "arr_float32 = arr.astype(np.float32)\n",
    "\n",
    "print(arr_float32)\n",
    "print(arr_float32.dtype)  # To check the data type\n"
   ]
  },
  {
   "cell_type": "code",
   "execution_count": 12,
   "metadata": {},
   "outputs": [
    {
     "name": "stdout",
     "output_type": "stream",
     "text": [
      "((2, 3), 6, 2)\n"
     ]
    }
   ],
   "source": [
    "#6. Write a function array_attributes that takes a NumPy array as input and returns its shape, size, and data\n",
    "#dim\n",
    "def something(arr):\n",
    "    shape=arr.shape\n",
    "    size=arr.size\n",
    "    dim=arr.ndim\n",
    "    return shape,size,dim\n",
    "some=something(np.array([[1, 2, 3], [4, 5, 6]]))\n",
    "print(some)"
   ]
  },
  {
   "cell_type": "code",
   "execution_count": null,
   "metadata": {},
   "outputs": [],
   "source": []
  }
 ],
 "metadata": {
  "kernelspec": {
   "display_name": "Python 3",
   "language": "python",
   "name": "python3"
  },
  "language_info": {
   "codemirror_mode": {
    "name": "ipython",
    "version": 3
   },
   "file_extension": ".py",
   "mimetype": "text/x-python",
   "name": "python",
   "nbconvert_exporter": "python",
   "pygments_lexer": "ipython3",
   "version": "3.12.6"
  }
 },
 "nbformat": 4,
 "nbformat_minor": 2
}
